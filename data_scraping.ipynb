{
 "cells": [
  {
   "cell_type": "code",
   "execution_count": 3,
   "metadata": {},
   "outputs": [],
   "source": [
    "import praw \n",
    "import pandas as pd\n",
    "import datetime as dt\n",
    "import numpy as np"
   ]
  },
  {
   "cell_type": "code",
   "execution_count": 4,
   "metadata": {},
   "outputs": [],
   "source": [
    "reddit=praw.Reddit(client_id='_Ij9InJJ1MqC-Q',client_secret='9XF46Dd9icSEmAghFivwt9J9uGU',user_agent='Reddit WebScraping',username='anushkanarula01',password='')"
   ]
  },
  {
   "cell_type": "code",
   "execution_count": 5,
   "metadata": {},
   "outputs": [],
   "source": [
    "subreddit = reddit.subreddit('india')"
   ]
  },
  {
   "cell_type": "code",
   "execution_count": 6,
   "metadata": {},
   "outputs": [],
   "source": [
    "flair_dict={0:'Political',1:'Non-political',2:'Reddiquette',3:'AskIndia',4:'Science & Technology',5:'Policy & Economy',6:'Finance & Business',7:'Sports and food',8:'Photography',9:'AMA'}"
   ]
  },
  {
   "cell_type": "code",
   "execution_count": 9,
   "metadata": {},
   "outputs": [
    {
     "data": {
      "text/plain": [
       "1950"
      ]
     },
     "execution_count": 9,
     "metadata": {},
     "output_type": "execute_result"
    }
   ],
   "source": [
    "topics_dict = { \"title\":[],\"score\":[],\"id\":[],\"url\":[],\"comms_num\": [],\"created\": [],\"body\":[],\"flair\":[]}\n",
    "for flair in flair_dict:\n",
    "    for submission in subreddit.search(flair_dict[flair],limit=1000):\n",
    "        topics_dict[\"title\"].append(submission.title)\n",
    "        topics_dict[\"score\"].append(submission.score)\n",
    "        topics_dict[\"id\"].append(submission.id)\n",
    "        topics_dict[\"url\"].append(submission.url)\n",
    "        topics_dict[\"comms_num\"].append(submission.num_comments)\n",
    "        topics_dict[\"created\"].append(submission.created)\n",
    "        topics_dict[\"body\"].append(submission.selftext)\n",
    "        topics_dict[\"flair\"].append(flair)\n",
    "\n",
    "topics_data = pd.DataFrame(topics_dict)\n",
    "topics_data.to_csv('data.csv',index=False)\n",
    "len(topics_data['title'])"
   ]
  },
  {
   "cell_type": "code",
   "execution_count": 10,
   "metadata": {},
   "outputs": [],
   "source": [
    "df=pd.read_csv('data.csv')"
   ]
  },
  {
   "cell_type": "code",
   "execution_count": 11,
   "metadata": {},
   "outputs": [
    {
     "data": {
      "text/html": [
       "<div>\n",
       "<style scoped>\n",
       "    .dataframe tbody tr th:only-of-type {\n",
       "        vertical-align: middle;\n",
       "    }\n",
       "\n",
       "    .dataframe tbody tr th {\n",
       "        vertical-align: top;\n",
       "    }\n",
       "\n",
       "    .dataframe thead th {\n",
       "        text-align: right;\n",
       "    }\n",
       "</style>\n",
       "<table border=\"1\" class=\"dataframe\">\n",
       "  <thead>\n",
       "    <tr style=\"text-align: right;\">\n",
       "      <th></th>\n",
       "      <th>title</th>\n",
       "      <th>score</th>\n",
       "      <th>id</th>\n",
       "      <th>url</th>\n",
       "      <th>comms_num</th>\n",
       "      <th>created</th>\n",
       "      <th>body</th>\n",
       "      <th>flair</th>\n",
       "    </tr>\n",
       "  </thead>\n",
       "  <tbody>\n",
       "    <tr>\n",
       "      <th>0</th>\n",
       "      <td>Pitting a community against a political party ...</td>\n",
       "      <td>193</td>\n",
       "      <td>futac9</td>\n",
       "      <td>https://www.reddit.com/r/india/comments/futac9...</td>\n",
       "      <td>73</td>\n",
       "      <td>1.586034e+09</td>\n",
       "      <td>First of all let me start by saying it was stu...</td>\n",
       "      <td>0</td>\n",
       "    </tr>\n",
       "    <tr>\n",
       "      <th>1</th>\n",
       "      <td>Hit by backlash over posts on lack of medical ...</td>\n",
       "      <td>406</td>\n",
       "      <td>fpaj1w</td>\n",
       "      <td>https://theprint.in/india/hit-by-backlash-over...</td>\n",
       "      <td>67</td>\n",
       "      <td>1.585254e+09</td>\n",
       "      <td>NaN</td>\n",
       "      <td>0</td>\n",
       "    </tr>\n",
       "    <tr>\n",
       "      <th>2</th>\n",
       "      <td>A new political party gave a full front page a...</td>\n",
       "      <td>733</td>\n",
       "      <td>ff8sth</td>\n",
       "      <td>https://i.redd.it/yjo9wpy38el41.jpg</td>\n",
       "      <td>146</td>\n",
       "      <td>1.583678e+09</td>\n",
       "      <td>NaN</td>\n",
       "      <td>0</td>\n",
       "    </tr>\n",
       "    <tr>\n",
       "      <th>3</th>\n",
       "      <td>In this trying time, let's try to be a little ...</td>\n",
       "      <td>216</td>\n",
       "      <td>flm79b</td>\n",
       "      <td>https://www.reddit.com/r/india/comments/flm79b...</td>\n",
       "      <td>56</td>\n",
       "      <td>1.584697e+09</td>\n",
       "      <td>I had a shocking interaction this morning. A b...</td>\n",
       "      <td>0</td>\n",
       "    </tr>\n",
       "    <tr>\n",
       "      <th>4</th>\n",
       "      <td>Indian States / UTs if renamed for countries w...</td>\n",
       "      <td>182</td>\n",
       "      <td>flwd7r</td>\n",
       "      <td>https://i.redd.it/hk9o11b8dun41.png</td>\n",
       "      <td>20</td>\n",
       "      <td>1.584745e+09</td>\n",
       "      <td>NaN</td>\n",
       "      <td>0</td>\n",
       "    </tr>\n",
       "  </tbody>\n",
       "</table>\n",
       "</div>"
      ],
      "text/plain": [
       "                                               title  score      id  \\\n",
       "0  Pitting a community against a political party ...    193  futac9   \n",
       "1  Hit by backlash over posts on lack of medical ...    406  fpaj1w   \n",
       "2  A new political party gave a full front page a...    733  ff8sth   \n",
       "3  In this trying time, let's try to be a little ...    216  flm79b   \n",
       "4  Indian States / UTs if renamed for countries w...    182  flwd7r   \n",
       "\n",
       "                                                 url  comms_num       created  \\\n",
       "0  https://www.reddit.com/r/india/comments/futac9...         73  1.586034e+09   \n",
       "1  https://theprint.in/india/hit-by-backlash-over...         67  1.585254e+09   \n",
       "2                https://i.redd.it/yjo9wpy38el41.jpg        146  1.583678e+09   \n",
       "3  https://www.reddit.com/r/india/comments/flm79b...         56  1.584697e+09   \n",
       "4                https://i.redd.it/hk9o11b8dun41.png         20  1.584745e+09   \n",
       "\n",
       "                                                body  flair  \n",
       "0  First of all let me start by saying it was stu...      0  \n",
       "1                                                NaN      0  \n",
       "2                                                NaN      0  \n",
       "3  I had a shocking interaction this morning. A b...      0  \n",
       "4                                                NaN      0  "
      ]
     },
     "execution_count": 11,
     "metadata": {},
     "output_type": "execute_result"
    }
   ],
   "source": [
    "df.head()"
   ]
  },
  {
   "cell_type": "code",
   "execution_count": null,
   "metadata": {},
   "outputs": [],
   "source": []
  }
 ],
 "metadata": {
  "kernelspec": {
   "display_name": "Python 3",
   "language": "python",
   "name": "python3"
  },
  "language_info": {
   "codemirror_mode": {
    "name": "ipython",
    "version": 3
   },
   "file_extension": ".py",
   "mimetype": "text/x-python",
   "name": "python",
   "nbconvert_exporter": "python",
   "pygments_lexer": "ipython3",
   "version": "3.7.3"
  }
 },
 "nbformat": 4,
 "nbformat_minor": 2
}
