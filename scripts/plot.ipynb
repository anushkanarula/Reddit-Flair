{
 "cells": [
  {
   "cell_type": "code",
   "execution_count": 4,
   "metadata": {},
   "outputs": [],
   "source": [
    "import plotly\n",
    "from plotly import graph_objs as go\n",
    "import pandas as pd\n",
    "import numpy as np\n",
    "import json\n",
    "\n",
    "flairs = [\"AskIndia\", \"Non-Political\", \"[R]eddiquette\", \"Scheduled\", \"Photography\", \"Science/Technology\", \"Politics\", \"Business/Finance\", \"Policy/Economy\", \"Sports\", \"Food\", \"AMA\"]\n",
    "\n",
    "posts = pd.read_csv('data.csv')\n",
    "\n",
    "comments = posts.groupby(['flair'])['comms_num'].agg('sum')\n",
    "upvotes = posts.groupby(['flair'])['score'].agg('sum')\n",
    "\n",
    "raw_data = {\n",
    "\t\t\t'flair' : [\"AskIndia\", \"Non-Political\", \"[R]eddiquette\", \"Scheduled\", \"Photography\", \"Science/Technology\", \"Politics\", \"Business/Finance\", \"Policy/Economy\", \"Sports\", \"Food\", \"AMA\"],\n",
    "\t\t\t'comments' : comments,\n",
    "\t\t\t'upvotes' : upvotes\t\t\t\t\n",
    "\t\t\t}\n",
    "\n",
    "graph = pd.DataFrame(raw_data,columns=['flair','comments','upvotes'])\n",
    "\n",
    "def create_plot():\n",
    "    \n",
    "\n",
    "    df = graph\n",
    "    \n",
    "    trace1 = go.Bar(\n",
    "                x = flairs,\n",
    "                y = graph.comments,\n",
    "                name = \"comments\",\n",
    "                marker = dict(color = 'rgba(255, 174, 255, 0.5)',\n",
    "                             line=dict(color='rgb(0,0,0)',width=1.5)),\n",
    "                )\n",
    "    # create trace2 \n",
    "    trace2 = go.Bar(\n",
    "                    x = flairs,\n",
    "                    y = graph.upvotes,\n",
    "                    name = \"upvotes\",\n",
    "                    marker = dict(color = 'rgba(255, 255, 128, 0.5)',\n",
    "                                line=dict(color='rgb(0,0,0)',width=1.5)),\n",
    "                    )\n",
    "\n",
    "    data = [trace1,trace2]\n",
    "\n",
    "    graphJSON = json.dumps(data, cls=plotly.utils.PlotlyJSONEncoder)\n",
    "\n",
    "    return graphJSON"
   ]
  },
  {
   "cell_type": "code",
   "execution_count": null,
   "metadata": {},
   "outputs": [],
   "source": []
  }
 ],
 "metadata": {
  "kernelspec": {
   "display_name": "Python 3",
   "language": "python",
   "name": "python3"
  },
  "language_info": {
   "codemirror_mode": {
    "name": "ipython",
    "version": 3
   },
   "file_extension": ".py",
   "mimetype": "text/x-python",
   "name": "python",
   "nbconvert_exporter": "python",
   "pygments_lexer": "ipython3",
   "version": "3.7.6"
  }
 },
 "nbformat": 4,
 "nbformat_minor": 4
}
